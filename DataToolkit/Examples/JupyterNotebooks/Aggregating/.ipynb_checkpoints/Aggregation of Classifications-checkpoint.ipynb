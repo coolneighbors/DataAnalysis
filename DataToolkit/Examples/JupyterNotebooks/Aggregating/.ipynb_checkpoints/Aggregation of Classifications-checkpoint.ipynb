{
 "cells": [
  {
   "cell_type": "code",
   "execution_count": null,
   "id": "f092411d",
   "metadata": {},
   "outputs": [],
   "source": [
    "from DataToolkit.Aggregator import Aggregator\n",
    "import os\n",
    "\n",
    "# Make sure you have the classifications file and workflows file in the local directory before running.\n",
    "\n",
    "def runAggregator(workflow_id=24299, version=1.6, classifications_csv=\"backyard-worlds-cool-neighbors-classifications.csv\", workflows_csv=\"backyard-worlds-cool-neighbors-workflows.csv\",config_directory=\"Config\", extractions_directory=\"Extractions\", reductions_directory=\"Reductions\"):\n",
    "    print(\"Start\")\n",
    "    aggregator = Aggregator(classifications_csv, workflows_csv, config_directory=config_directory, extractions_directory=extractions_directory, reductions_directory=reductions_directory)\n",
    "    \n",
    "    # Check if the extractions and reductions files have already been processed for this workflow_id and version\n",
    "    if(os.path.exists(\"{}/question_extractor_workflow_{}_V{}.csv\".format(aggregator.extractions_directory, workflow_id, version)) and os.path.exists(\"{}/question_reducer_workflow_{}_V{}.csv\".format(aggregator.reductions_directory, workflow_id, version))):\n",
    "        print(\"Aggregated files already exist, skipping aggregation.\")\n",
    "    else:\n",
    "        # Aggregate the workflow classifications\n",
    "        aggregator.aggregateWorkflow(workflow_id=workflow_id, v=version)\n",
    "    print(\"End\")"
   ]
  },
  {
   "cell_type": "code",
   "execution_count": null,
   "id": "d5642fb9",
   "metadata": {},
   "outputs": [],
   "source": [
    "# In the standard python console, there would be progress bars but they do not show up in the Jupyter Notebook.\n",
    "# The aggregating process may take a while depending on how many classifications you are attempting to aggregate.\n",
    "runAggregator(workflow_id=24299, version=1.6)"
   ]
  }
 ],
 "metadata": {
  "kernelspec": {
   "display_name": "DataToolkit",
   "language": "python",
   "name": "datatoolkit"
  },
  "language_info": {
   "codemirror_mode": {
    "name": "ipython",
    "version": 3
   },
   "file_extension": ".py",
   "mimetype": "text/x-python",
   "name": "python",
   "nbconvert_exporter": "python",
   "pygments_lexer": "ipython3",
   "version": "3.9.17"
  }
 },
 "nbformat": 4,
 "nbformat_minor": 5
}
