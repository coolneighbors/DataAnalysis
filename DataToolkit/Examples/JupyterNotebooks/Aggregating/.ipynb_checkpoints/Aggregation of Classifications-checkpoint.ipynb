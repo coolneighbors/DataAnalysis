{
 "cells": [
  {
   "cell_type": "code",
   "execution_count": 1,
   "id": "f092411d",
   "metadata": {},
   "outputs": [],
   "source": [
    "from DataToolkit.Aggregator import Aggregator\n",
    "import os\n",
    "\n",
    "# Make sure you have the classifications file and workflows file in the local directory before running.\n",
    "\n",
    "def runAggregator(workflow_id=24299, version=1.6, classifications_csv=\"backyard-worlds-cool-neighbors-classifications.csv\", workflows_csv=\"backyard-worlds-cool-neighbors-workflows.csv\",config_directory=\"Config\", extractions_directory=\"Extractions\", reductions_directory=\"Reductions\"):\n",
    "    print(\"Start\")\n",
    "    aggregator = Aggregator(classifications_csv, workflows_csv, config_directory=config_directory, extractions_directory=extractions_directory, reductions_directory=reductions_directory)\n",
    "    \n",
    "    # Check if the extractions and reductions files have already been processed for this workflow_id and version\n",
    "    if(os.path.exists(\"{}/question_extractor_workflow_{}_V{}.csv\".format(aggregator.extractions_directory, workflow_id, version)) and os.path.exists(\"{}/question_reducer_workflow_{}_V{}.csv\".format(aggregator.reductions_directory, workflow_id, version))):\n",
    "        print(\"Aggregated files already exist, skipping aggregation.\")\n",
    "    else:\n",
    "        # Aggregate the workflow classifications\n",
    "        aggregator.aggregateWorkflow(workflow_id=workflow_id, v=version)\n",
    "    print(\"End\")"
   ]
  },
  {
   "cell_type": "code",
   "execution_count": 2,
   "id": "d5642fb9",
   "metadata": {},
   "outputs": [
    {
     "name": "stdout",
     "output_type": "stream",
     "text": [
      "Start\n"
     ]
    },
    {
     "ename": "FileNotFoundError",
     "evalue": "Workflow file C:\\Users\\Austin\\Documents\\GitHub\\DataToolkit\\DataToolkit\\Examples\\JupyterNotebooks\\Aggregating\\backyard-worlds-cool-neighbors-workflows.csv does not exist.",
     "output_type": "error",
     "traceback": [
      "\u001b[1;31m---------------------------------------------------------------------------\u001b[0m",
      "\u001b[1;31mFileNotFoundError\u001b[0m                         Traceback (most recent call last)",
      "Cell \u001b[1;32mIn[2], line 3\u001b[0m\n\u001b[0;32m      1\u001b[0m \u001b[38;5;66;03m# In the standard python console, there would be progress bars but they do not show up in the Jupyter Notebook.\u001b[39;00m\n\u001b[0;32m      2\u001b[0m \u001b[38;5;66;03m# The aggregating process may take a while depending on how many classifications you are attempting to aggregate.\u001b[39;00m\n\u001b[1;32m----> 3\u001b[0m \u001b[43mrunAggregator\u001b[49m\u001b[43m(\u001b[49m\u001b[43mworkflow_id\u001b[49m\u001b[38;5;241;43m=\u001b[39;49m\u001b[38;5;241;43m24299\u001b[39;49m\u001b[43m,\u001b[49m\u001b[43m \u001b[49m\u001b[43mversion\u001b[49m\u001b[38;5;241;43m=\u001b[39;49m\u001b[38;5;241;43m1.6\u001b[39;49m\u001b[43m)\u001b[49m\n",
      "Cell \u001b[1;32mIn[1], line 13\u001b[0m, in \u001b[0;36mrunAggregator\u001b[1;34m(workflow_id, version, classifications_csv, workflows_csv, config_directory, extractions_directory, reductions_directory)\u001b[0m\n\u001b[0;32m     10\u001b[0m     \u001b[38;5;28mprint\u001b[39m(\u001b[38;5;124m\"\u001b[39m\u001b[38;5;124mAggregated files already exist, skipping aggregation.\u001b[39m\u001b[38;5;124m\"\u001b[39m)\n\u001b[0;32m     11\u001b[0m \u001b[38;5;28;01melse\u001b[39;00m:\n\u001b[0;32m     12\u001b[0m     \u001b[38;5;66;03m# Aggregate the workflow classifications\u001b[39;00m\n\u001b[1;32m---> 13\u001b[0m     \u001b[43maggregator\u001b[49m\u001b[38;5;241;43m.\u001b[39;49m\u001b[43maggregateWorkflow\u001b[49m\u001b[43m(\u001b[49m\u001b[43mworkflow_id\u001b[49m\u001b[38;5;241;43m=\u001b[39;49m\u001b[43mworkflow_id\u001b[49m\u001b[43m,\u001b[49m\u001b[43m \u001b[49m\u001b[43mv\u001b[49m\u001b[38;5;241;43m=\u001b[39;49m\u001b[43mversion\u001b[49m\u001b[43m)\u001b[49m\n\u001b[0;32m     14\u001b[0m \u001b[38;5;28mprint\u001b[39m(\u001b[38;5;124m\"\u001b[39m\u001b[38;5;124mEnd\u001b[39m\u001b[38;5;124m\"\u001b[39m)\n",
      "File \u001b[1;32m~\\AppData\\Roaming\\Python\\Python39\\site-packages\\DataToolkit\\Aggregator.py:99\u001b[0m, in \u001b[0;36mAggregator.aggregateWorkflow\u001b[1;34m(self, workflow_id, **kwargs)\u001b[0m\n\u001b[0;32m     86\u001b[0m \u001b[38;5;250m\u001b[39m\u001b[38;5;124;03m\"\"\"\u001b[39;00m\n\u001b[0;32m     87\u001b[0m \u001b[38;5;124;03mClassifies a workflow using the Panoptes aggregation client by generating config files,\u001b[39;00m\n\u001b[0;32m     88\u001b[0m \u001b[38;5;124;03mextracted files, and reduction files.\u001b[39;00m\n\u001b[1;32m   (...)\u001b[0m\n\u001b[0;32m     95\u001b[0m \u001b[38;5;124;03m        Optional arguments to be passed to the config command.\u001b[39;00m\n\u001b[0;32m     96\u001b[0m \u001b[38;5;124;03m\"\"\"\u001b[39;00m\n\u001b[0;32m     98\u001b[0m \u001b[38;5;66;03m# Generate config files, extracted files, and reduction files\u001b[39;00m\n\u001b[1;32m---> 99\u001b[0m \u001b[38;5;28mself\u001b[39m\u001b[38;5;241m.\u001b[39mconfig(workflow_id, \u001b[38;5;241m*\u001b[39m\u001b[38;5;241m*\u001b[39mkwargs)\n\u001b[0;32m    100\u001b[0m \u001b[38;5;28mself\u001b[39m\u001b[38;5;241m.\u001b[39mextract()\n\u001b[0;32m    101\u001b[0m \u001b[38;5;28mself\u001b[39m\u001b[38;5;241m.\u001b[39mreduce()\n",
      "File \u001b[1;32m~\\AppData\\Roaming\\Python\\Python39\\site-packages\\DataToolkit\\Aggregator.py:127\u001b[0m, in \u001b[0;36mAggregator.config\u001b[1;34m(self, workflow_id, **kwargs)\u001b[0m\n\u001b[0;32m    124\u001b[0m     \u001b[38;5;28;01mraise\u001b[39;00m \u001b[38;5;167;01mValueError\u001b[39;00m(\u001b[38;5;124m\"\u001b[39m\u001b[38;5;124mWorkflow ID has not been set.\u001b[39m\u001b[38;5;124m\"\u001b[39m)\n\u001b[0;32m    126\u001b[0m \u001b[38;5;28;01mif\u001b[39;00m(\u001b[38;5;129;01mnot\u001b[39;00m os\u001b[38;5;241m.\u001b[39mpath\u001b[38;5;241m.\u001b[39mexists(\u001b[38;5;28mself\u001b[39m\u001b[38;5;241m.\u001b[39mworkflow_csv_filename)):\n\u001b[1;32m--> 127\u001b[0m     \u001b[38;5;28;01mraise\u001b[39;00m \u001b[38;5;167;01mFileNotFoundError\u001b[39;00m(\u001b[38;5;124mf\u001b[39m\u001b[38;5;124m\"\u001b[39m\u001b[38;5;124mWorkflow file \u001b[39m\u001b[38;5;132;01m{\u001b[39;00m\u001b[38;5;28mself\u001b[39m\u001b[38;5;241m.\u001b[39mworkflow_csv_filename\u001b[38;5;132;01m}\u001b[39;00m\u001b[38;5;124m does not exist.\u001b[39m\u001b[38;5;124m\"\u001b[39m)\n\u001b[0;32m    129\u001b[0m \u001b[38;5;66;03m# Create the config directory if it does not exist\u001b[39;00m\n\u001b[0;32m    130\u001b[0m \u001b[38;5;28;01mif\u001b[39;00m(\u001b[38;5;129;01mnot\u001b[39;00m os\u001b[38;5;241m.\u001b[39mpath\u001b[38;5;241m.\u001b[39mexists(\u001b[38;5;28mself\u001b[39m\u001b[38;5;241m.\u001b[39mconfig_directory)):\n",
      "\u001b[1;31mFileNotFoundError\u001b[0m: Workflow file C:\\Users\\Austin\\Documents\\GitHub\\DataToolkit\\DataToolkit\\Examples\\JupyterNotebooks\\Aggregating\\backyard-worlds-cool-neighbors-workflows.csv does not exist."
     ]
    }
   ],
   "source": [
    "# In the standard python console, there would be progress bars but they do not show up in the Jupyter Notebook.\n",
    "# The aggregating process may take a while depending on how many classifications you are attempting to aggregate.\n",
    "runAggregator(workflow_id=24299, version=1.6)"
   ]
  },
  {
   "cell_type": "code",
   "execution_count": null,
   "id": "ddcb4597",
   "metadata": {},
   "outputs": [],
   "source": []
  }
 ],
 "metadata": {
  "kernelspec": {
   "display_name": "DataToolkit",
   "language": "python",
   "name": "datatoolkit"
  },
  "language_info": {
   "codemirror_mode": {
    "name": "ipython",
    "version": 3
   },
   "file_extension": ".py",
   "mimetype": "text/x-python",
   "name": "python",
   "nbconvert_exporter": "python",
   "pygments_lexer": "ipython3",
   "version": "3.9.17"
  }
 },
 "nbformat": 4,
 "nbformat_minor": 5
}
