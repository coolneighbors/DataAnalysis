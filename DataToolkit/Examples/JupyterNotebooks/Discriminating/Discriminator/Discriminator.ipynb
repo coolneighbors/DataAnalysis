{
 "cells": [
  {
   "cell_type": "markdown",
   "id": "1c32b0ff",
   "metadata": {},
   "source": [
    "# Discriminator Class:"
   ]
  },
  {
   "cell_type": "markdown",
   "id": "24a84818",
   "metadata": {},
   "source": [
    "## What does it do?\n",
    "<break> </break>\n",
    "<font size=5>\n",
    "The Discriminator class, as will be demonstrated, is all about being able to get subsets of metadata based on conditions that set of metadata share.\n",
    "    \n",
    "<break> </break>\n",
    "    \n",
    "</font>\n",
    "\n",
    "<font size=3>\n",
    "For instance, let's say you have the following table:\n",
    "</font>\n",
    "\n",
    "![Example Metadata Table](Example_Metadata_Table.png)\n",
    "\n",
    "<break> </break>\n",
    "\n",
    "<font size=3>\n",
    "You are trying to determine which fruit are healthy enough to incorporate into your new diet, so you want all fruit which are less than 100 calories. However, you also don't want to go broke! As such, you also want to impose that all the fruit you incorporate into you diet should cost less than or equal to 35 cents. This can be done as follows:\n",
    "</font>    \n"
   ]
  },
  {
   "cell_type": "code",
   "execution_count": 1,
   "id": "f080c229",
   "metadata": {},
   "outputs": [
    {
     "name": "stdout",
     "output_type": "stream",
     "text": [
      "Metadata Discrimination Example\n",
      "------------------------------\n",
      "The default character for private metadata is: # \n",
      "\n",
      "By adding '#' to the front of your Metadata's field name, it will make it inaccessible to Zooniverse users.\n"
     ]
    }
   ],
   "source": [
    "# Import the appropriate classes\n",
    "from DataToolkit.Discriminator import Discriminator\n",
    "from unWISE_verse.Data import Metadata\n",
    "\n",
    "# Useful display information\n",
    "print(\"Metadata Discrimination Example\")\n",
    "print(\"------------------------------\")\n",
    "\n",
    "print(f\"The default character for private metadata is: {Metadata.privatization_symbol} \\n\")\n",
    "print(f\"By adding \\'{Metadata.privatization_symbol}\\' to the front of your Metadata's field name, it will make it inaccessible to Zooniverse users.\")"
   ]
  },
  {
   "cell_type": "code",
   "execution_count": 2,
   "id": "9d74a1dd",
   "metadata": {},
   "outputs": [
    {
     "name": "stdout",
     "output_type": "stream",
     "text": [
      "Field Names: ['Name', 'Amount', 'Cost', 'Calories', '#Ranking'] , Values: ['Banana', 1, 0.25, 105, 1]\n",
      "Field Names: ['Name', 'Amount', 'Cost', 'Calories', '#Ranking'] , Values: ['Apple', 1, 0.3, 95, 2]\n",
      "Field Names: ['Name', 'Amount', 'Cost', 'Calories', '#Ranking'] , Values: ['Orange', 1, 0.35, 45, 3]\n",
      "Field Names: ['Name', 'Amount', 'Cost', 'Calories', '#Ranking'] , Values: ['Pear', 1, 0.4, 105, 4]\n"
     ]
    }
   ],
   "source": [
    "# Create the metadata objects corresponding to the rows of the table\n",
    "\n",
    "banana_metadata = Metadata(field_names=[\"Name\", \"Amount\", \"Cost\", \"Calories\", \"#Ranking\"], \n",
    "                      metadata_values=[\"Banana\", 1, 0.25, 105, 1])\n",
    "apple_metadata = Metadata(field_names=[\"Name\", \"Amount\", \"Cost\", \"Calories\", \"#Ranking\"],\n",
    "                      metadata_values=[\"Apple\", 1, 0.30, 95, 2])\n",
    "orange_metadata = Metadata(field_names=[\"Name\", \"Amount\", \"Cost\", \"Calories\", \"#Ranking\"],\n",
    "                      metadata_values=[\"Orange\", 1, 0.35, 45, 3])\n",
    "pear_metadata = Metadata(field_names=[\"Name\", \"Amount\", \"Cost\", \"Calories\", \"#Ranking\"],\n",
    "                      metadata_values=[\"Pear\", 1, 0.40, 105, 4])\n",
    "\n",
    "# Create a list of metadata objects\n",
    "metadata_list = [banana_metadata, apple_metadata, orange_metadata, pear_metadata]\n",
    "\n",
    "for metadata in metadata_list:\n",
    "    print(metadata)"
   ]
  },
  {
   "cell_type": "code",
   "execution_count": 3,
   "id": "551d8af3",
   "metadata": {},
   "outputs": [],
   "source": [
    "# Create a discriminator object with the metadata list\n",
    "discriminator = Discriminator(metadata_list)"
   ]
  },
  {
   "cell_type": "code",
   "execution_count": 4,
   "id": "f061710d",
   "metadata": {},
   "outputs": [],
   "source": [
    "# Create a functional condition, which is just some function that returns a boolean value\n",
    "# based on the field values of each metadata object. Must return either True or False, cannot return None.\n",
    "functional_condition = lambda calories, cost: calories < 100 and cost <= 0.35"
   ]
  },
  {
   "cell_type": "code",
   "execution_count": 5,
   "id": "8e093d1c",
   "metadata": {},
   "outputs": [
    {
     "name": "stdout",
     "output_type": "stream",
     "text": [
      "The valid metadata is:\n",
      "Field Names: ['Name', 'Amount', 'Cost', 'Calories', '#Ranking'] , Values: ['Apple', 1, 0.3, 95, 2]\n",
      "Field Names: ['Name', 'Amount', 'Cost', 'Calories', '#Ranking'] , Values: ['Orange', 1, 0.35, 45, 3]\n",
      "\n",
      "\n"
     ]
    }
   ],
   "source": [
    "# Find the valid metadata based on the functional condition\n",
    "# The further arguments are the field names of the metadata objects that the functional condition is based on.\n",
    "# \"Calories and \"Cost\", in this case, but it could be any of the field names or multiple field names.\n",
    "valid_metadata = discriminator.findValidMetadata(functional_condition, \"Calories\", \"Cost\")\n",
    "\n",
    "# Print the valid metadata\n",
    "print(\"The valid metadata is:\")\n",
    "for metadata in valid_metadata:\n",
    "    print(metadata)\n",
    "print(\"\\n\")"
   ]
  },
  {
   "cell_type": "code",
   "execution_count": 6,
   "id": "2d16a014",
   "metadata": {},
   "outputs": [
    {
     "name": "stdout",
     "output_type": "stream",
     "text": [
      "The loaded metadata is:\n",
      "Field Names: ['Name', 'Amount', 'Cost', 'Calories', '#Ranking'] , Values: ['Apple', 1, 0.3, 95, 2]\n",
      "Field Names: ['Name', 'Amount', 'Cost', 'Calories', '#Ranking'] , Values: ['Orange', 1, 0.35, 45, 3]\n",
      "\n",
      "\n"
     ]
    }
   ],
   "source": [
    "# Save the metadata objects to a pickle file\n",
    "discriminator.saveResult(valid_metadata, \"metadata_discriminator_example.pkl\")\n",
    "\n",
    "# Load the metadata objects from the pickle file\n",
    "loaded_metadata_list = discriminator.loadResult(\"metadata_discriminator_example.pkl\")\n",
    "print(f\"The loaded metadata is:\")\n",
    "for metadata in loaded_metadata_list:\n",
    "    print(metadata)\n",
    "print(\"\\n\")"
   ]
  },
  {
   "cell_type": "code",
   "execution_count": 7,
   "id": "eba39767",
   "metadata": {},
   "outputs": [],
   "source": [
    "# Save the metadata objects to a csv file\n",
    "discriminator.saveResultToCSV(valid_metadata, \"metadata_discriminator_example.csv\")"
   ]
  }
 ],
 "metadata": {
  "kernelspec": {
   "display_name": "DataToolkit",
   "language": "python",
   "name": "datatoolkit"
  },
  "language_info": {
   "codemirror_mode": {
    "name": "ipython",
    "version": 3
   },
   "file_extension": ".py",
   "mimetype": "text/x-python",
   "name": "python",
   "nbconvert_exporter": "python",
   "pygments_lexer": "ipython3",
   "version": "3.9.17"
  }
 },
 "nbformat": 4,
 "nbformat_minor": 5
}
