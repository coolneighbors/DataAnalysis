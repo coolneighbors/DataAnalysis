{
 "cells": [
  {
   "cell_type": "markdown",
   "id": "1c32b0ff",
   "metadata": {},
   "source": [
    "# SubjectCSVDiscriminator Class:"
   ]
  },
  {
   "cell_type": "markdown",
   "id": "24a84818",
   "metadata": {},
   "source": [
    "## What does it do?\n",
    "<break> </break>\n",
    "<font size=5>\n",
    "The SubjectCSVDiscriminator class, a child class of the CSVDiscriminator, takes a subject csv from Zooniverse's data exports and allows you to get a subset of those subjects based on the values of their metadata.\n",
    "    \n",
    "<break> </break>"
   ]
  },
  {
   "cell_type": "code",
   "execution_count": null,
   "id": "f080c229",
   "metadata": {},
   "outputs": [],
   "source": [
    "# Import the appropriate classes\n",
    "from DataToolkit.Discriminator import SubjectCSVDiscriminator\n",
    "\n",
    "print(\"Subject CSV Discrimination Example\")\n",
    "print(\"----------------------------------\")"
   ]
  },
  {
   "cell_type": "code",
   "execution_count": null,
   "id": "9d74a1dd",
   "metadata": {},
   "outputs": [],
   "source": [
    "# Set the subject set ID of the subject set you want to get subjects from (optional)\n",
    "subject_set_id = None\n",
    "\n",
    "# Prompts telling you to fill in the subject set ID if you have not already done so.\n",
    "if(subject_set_id is None):\n",
    "    print(\"Please fill in the subject set id, unless you want to get all subjects from the csv.\")\n",
    "\n",
    "subject_csv = \"panoptes-spout-test-project-subjects.csv\"\n",
    "\n",
    "if(subject_csv is None):\n",
    "    print(\"Please fill in the subject csv file. This file can be downloaded from the Zooniverse project builder under the 'Data Exports' tab.\")"
   ]
  },
  {
   "cell_type": "code",
   "execution_count": null,
   "id": "551d8af3",
   "metadata": {},
   "outputs": [],
   "source": [
    "# SubjectCSVDiscriminator will automatically try to log in to Zooniverse if you have not already done so.\n",
    "# It will prompt you to enter your username and password as well as to provide a project ID if you have not already done so.\n",
    "subject_csv_discriminator = SubjectCSVDiscriminator(subject_csv, subject_set_identifer=subject_set_id)"
   ]
  },
  {
   "cell_type": "code",
   "execution_count": null,
   "id": "f061710d",
   "metadata": {},
   "outputs": [],
   "source": [
    "# Create a functional condition, which is just some function that returns a boolean value\n",
    "# based on the values of each row. Must return either True or False, cannot return None.\n",
    "functional_condition = lambda ra, dec: float(ra) > 0 and float(dec) > 0"
   ]
  },
  {
   "cell_type": "code",
   "execution_count": null,
   "id": "8e093d1c",
   "metadata": {},
   "outputs": [],
   "source": [
    " # Find the valid subjects based on the functional condition\n",
    "# The further arguments are the metadata field names of the subject objects that the functional condition is based on.\n",
    "# \"RA\" and \"DEC\", in this case, but it could be any of the metadata field names or multiple metadata field names.\n",
    "valid_subjects = subject_csv_discriminator.findValidSubjects(functional_condition, \"RA\", \"DEC\")\n",
    "\n",
    "# Print the valid subjects\n",
    "max_count = 10\n",
    "print(f\"There are {len(valid_subjects)} valid subjects. The first {min(max_count, len(valid_subjects))} are:\")\n",
    "for subject in valid_subjects[:max_count]:\n",
    "    print(subject)\n",
    "\n",
    "if(len(valid_subjects) > max_count):\n",
    "    print(\"...\\n\")\n",
    "else:\n",
    "    print(\"\\n\")"
   ]
  },
  {
   "cell_type": "code",
   "execution_count": null,
   "id": "2d16a014",
   "metadata": {},
   "outputs": [],
   "source": [
    "# Save the valid subjects to a pickle file\n",
    "subject_csv_discriminator.saveResult(valid_subjects, \"subject_discriminator_example.pkl\")\n",
    "\n",
    "# Load the valid subjects from the pickle file\n",
    "loaded_subject_list = subject_csv_discriminator.loadResult(\"subject_discriminator_example.pkl\")\n",
    "\n",
    "print(f\"The first {min(max_count, len(loaded_subject_list))} loaded subjects are:\")\n",
    "for subject in loaded_subject_list[:max_count]:\n",
    "    print(subject)\n",
    "\n",
    "if (len(valid_subjects) > max_count):\n",
    "    print(\"...\\n\")\n",
    "else:\n",
    "    print(\"\\n\")"
   ]
  },
  {
   "cell_type": "code",
   "execution_count": null,
   "id": "eba39767",
   "metadata": {},
   "outputs": [],
   "source": [
    "# Save the valid subjects to a csv file\n",
    "subject_csv_discriminator.saveResultToCSV(valid_subjects, \"subject_csv_discriminator_example_result.csv\")"
   ]
  }
 ],
 "metadata": {
  "kernelspec": {
   "display_name": "DataToolkit",
   "language": "python",
   "name": "datatoolkit"
  },
  "language_info": {
   "codemirror_mode": {
    "name": "ipython",
    "version": 3
   },
   "file_extension": ".py",
   "mimetype": "text/x-python",
   "name": "python",
   "nbconvert_exporter": "python",
   "pygments_lexer": "ipython3",
   "version": "3.9.17"
  }
 },
 "nbformat": 4,
 "nbformat_minor": 5
}
