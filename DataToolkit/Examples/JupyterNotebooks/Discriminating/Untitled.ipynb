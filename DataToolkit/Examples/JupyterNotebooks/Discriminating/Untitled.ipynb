{
 "cells": [
  {
   "cell_type": "code",
   "execution_count": null,
   "id": "cd52f41a",
   "metadata": {},
   "outputs": [],
   "source": [
    "# TODO: Discriminator import is causing kernel to die. Likely the result of library issues\n",
    "from DataToolkit.Discriminator import Discriminator\n",
    "from unWISE_verse.Data import Metadata\n",
    "\n",
    "print(\"Metadata Discrimination Example\")\n",
    "print(\"------------------------------\")\n",
    "\n",
    "\n",
    "print(\"The default character for private metadata is: {} \\n\".format(Metadata.privatization_symbol))\n",
    "\n",
    "# Create some metadata\n",
    "metadata_1 = Metadata(field_names=[\"Name\", \"Amount\", \"Cost\", \"Calories\", \"#Ranking\"], \n",
    "                      metadata_values=[\"Banana\", 1, 0.25, 105, 1])\n",
    "metadata_2 = Metadata(field_names=[\"Name\", \"Amount\", \"Cost\", \"Calories\", \"#Ranking\"],\n",
    "                      metadata_values=[\"Apple\", 1, 0.30, 95, 2])\n",
    "metadata_3 = Metadata(field_names=[\"Name\", \"Amount\", \"Cost\", \"Calories\", \"#Ranking\"],\n",
    "                      metadata_values=[\"Orange\", 1, 0.35, 45, 3])\n",
    "metadata_4 = Metadata(field_names=[\"Name\", \"Amount\", \"Cost\", \"Calories\", \"#Ranking\"],\n",
    "                      metadata_values=[\"Pear\", 1, 0.40, 105, 4])\n",
    "\n",
    "# Create a list of metadata\n",
    "metadata_list = [metadata_1, metadata_2, metadata_3, metadata_4]\n",
    "\n",
    "# Create a discriminator with the metadata list\n",
    "#discriminator = Discriminator(metadata_list)\n",
    "\n",
    "# Create a functional condition, which is just some function that returns a boolean value\n",
    "# based on the field values of each metadata object. Must return either True or False, cannot return None.\n",
    "functional_condition = lambda cost: cost < 0.35\n",
    "\n",
    "# Find the valid metadata based on the functional condition\n",
    "# The further arguments are the field names of the metadata objects that the functional condition is based on.\n",
    "# \"Cost\", in this case, but it could be any of the field names or multiple field names (e.g. \"Cost\", \"Calories\")\n",
    "#valid_metadata = discriminator.findValidMetadata(functional_condition, \"Cost\")\n",
    "\n",
    "# Print the valid metadata\n",
    "#print(\"The valid metadata is:\")\n",
    "#for metadata in valid_metadata:\n",
    "#    print(metadata)\n",
    "#print(\"\\n\")\n",
    "\n",
    "# Save the metadata objects to a pickle file\n",
    "#discriminator.saveResult(valid_metadata, \"metadata_discriminator_example.pkl\")\n",
    "\n",
    "# Load the metadata objects from the pickle file\n",
    "#loaded_metadata_list = discriminator.loadResult(\"metadata_discriminator_example.pkl\")\n",
    "#print(f\"The loaded metadata is:\")\n",
    "#for metadata in loaded_metadata_list:\n",
    "#    print(metadata)\n",
    "#print(\"\\n\")\n",
    "\n",
    "# Save the metadata objects to a csv file\n",
    "#discriminator.saveResultToCSV(valid_metadata, \"metadata_discriminator_example.csv\")"
   ]
  },
  {
   "cell_type": "code",
   "execution_count": 3,
   "id": "2d16a014",
   "metadata": {},
   "outputs": [
    {
     "name": "stdout",
     "output_type": "stream",
     "text": [
      "Start: 2023-07-17 12:33:16.866282\n"
     ]
    },
    {
     "ename": "ModuleNotFoundError",
     "evalue": "No module named 'Decorators'",
     "output_type": "error",
     "traceback": [
      "\u001b[1;31m---------------------------------------------------------------------------\u001b[0m",
      "\u001b[1;31mModuleNotFoundError\u001b[0m                       Traceback (most recent call last)",
      "Cell \u001b[1;32mIn[3], line 3\u001b[0m\n\u001b[0;32m      1\u001b[0m \u001b[38;5;28;01mfrom\u001b[39;00m \u001b[38;5;21;01mdatetime\u001b[39;00m \u001b[38;5;28;01mimport\u001b[39;00m datetime\n\u001b[0;32m      2\u001b[0m \u001b[38;5;28mprint\u001b[39m(\u001b[38;5;124mf\u001b[39m\u001b[38;5;124m\"\u001b[39m\u001b[38;5;124mStart: \u001b[39m\u001b[38;5;132;01m{\u001b[39;00mdatetime\u001b[38;5;241m.\u001b[39mnow()\u001b[38;5;132;01m}\u001b[39;00m\u001b[38;5;124m\"\u001b[39m)\n\u001b[1;32m----> 3\u001b[0m \u001b[38;5;28;01mimport\u001b[39;00m \u001b[38;5;21;01mDataToolkit\u001b[39;00m\u001b[38;5;21;01m.\u001b[39;00m\u001b[38;5;21;01mSearcher\u001b[39;00m\n\u001b[0;32m      4\u001b[0m \u001b[38;5;28mprint\u001b[39m(\u001b[38;5;124mf\u001b[39m\u001b[38;5;124m\"\u001b[39m\u001b[38;5;124mEnd: \u001b[39m\u001b[38;5;132;01m{\u001b[39;00mdatetime\u001b[38;5;241m.\u001b[39mnow()\u001b[38;5;132;01m}\u001b[39;00m\u001b[38;5;124m\"\u001b[39m)\n",
      "File \u001b[1;32m~\\anaconda3\\envs\\DataToolkit\\lib\\site-packages\\DataToolkit\\Searcher.py:25\u001b[0m\n\u001b[0;32m     23\u001b[0m \u001b[38;5;28;01mfrom\u001b[39;00m \u001b[38;5;21;01mmatplotlib\u001b[39;00m\u001b[38;5;21;01m.\u001b[39;00m\u001b[38;5;21;01mtransforms\u001b[39;00m \u001b[38;5;28;01mimport\u001b[39;00m Bbox\n\u001b[0;32m     24\u001b[0m \u001b[38;5;28;01mimport\u001b[39;00m \u001b[38;5;21;01mmplcursors\u001b[39;00m\n\u001b[1;32m---> 25\u001b[0m \u001b[38;5;28;01mfrom\u001b[39;00m \u001b[38;5;21;01mDecorators\u001b[39;00m \u001b[38;5;28;01mimport\u001b[39;00m ignore_warnings, plotting\n\u001b[0;32m     27\u001b[0m \u001b[38;5;66;03m# TODO: Add documentation for Searcher classes\u001b[39;00m\n\u001b[0;32m     28\u001b[0m \n\u001b[0;32m     29\u001b[0m \u001b[38;5;66;03m# Create an InputError exception class with a message\u001b[39;00m\n\u001b[0;32m     30\u001b[0m \u001b[38;5;28;01mclass\u001b[39;00m \u001b[38;5;21;01mInputError\u001b[39;00m(\u001b[38;5;167;01mException\u001b[39;00m):\n",
      "\u001b[1;31mModuleNotFoundError\u001b[0m: No module named 'Decorators'"
     ]
    }
   ],
   "source": [
    "from datetime import datetime\n",
    "print(f\"Start: {datetime.now()}\")\n",
    "import DataToolkit.Searcher\n",
    "print(f\"End: {datetime.now()}\")"
   ]
  },
  {
   "cell_type": "code",
   "execution_count": null,
   "id": "a1a149d3",
   "metadata": {},
   "outputs": [],
   "source": []
  },
  {
   "cell_type": "code",
   "execution_count": null,
   "id": "a6673794",
   "metadata": {},
   "outputs": [],
   "source": []
  }
 ],
 "metadata": {
  "kernelspec": {
   "display_name": "DataToolkit",
   "language": "python",
   "name": "datatoolkit"
  },
  "language_info": {
   "codemirror_mode": {
    "name": "ipython",
    "version": 3
   },
   "file_extension": ".py",
   "mimetype": "text/x-python",
   "name": "python",
   "nbconvert_exporter": "python",
   "pygments_lexer": "ipython3",
   "version": "3.9.17"
  }
 },
 "nbformat": 4,
 "nbformat_minor": 5
}
