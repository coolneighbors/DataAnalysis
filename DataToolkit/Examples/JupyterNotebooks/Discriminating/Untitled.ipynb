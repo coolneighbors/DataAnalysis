{
 "cells": [
  {
   "cell_type": "code",
   "execution_count": 2,
   "id": "cd52f41a",
   "metadata": {},
   "outputs": [
    {
     "name": "stdout",
     "output_type": "stream",
     "text": [
      "Metadata Discrimination Example\n",
      "------------------------------\n",
      "The default character for private metadata is: # \n",
      "\n"
     ]
    }
   ],
   "source": [
    "# TODO: Discriminator import is causing kernel to die. Likely the result of library issues\n",
    "from DataToolkit.Discriminator import Discriminator\n",
    "from unWISE_verse.Data import Metadata\n",
    "\n",
    "print(\"Metadata Discrimination Example\")\n",
    "print(\"------------------------------\")\n",
    "\n",
    "\n",
    "print(\"The default character for private metadata is: {} \\n\".format(Metadata.privatization_symbol))\n",
    "\n",
    "# Create some metadata\n",
    "metadata_1 = Metadata(field_names=[\"Name\", \"Amount\", \"Cost\", \"Calories\", \"#Ranking\"], \n",
    "                      metadata_values=[\"Banana\", 1, 0.25, 105, 1])\n",
    "metadata_2 = Metadata(field_names=[\"Name\", \"Amount\", \"Cost\", \"Calories\", \"#Ranking\"],\n",
    "                      metadata_values=[\"Apple\", 1, 0.30, 95, 2])\n",
    "metadata_3 = Metadata(field_names=[\"Name\", \"Amount\", \"Cost\", \"Calories\", \"#Ranking\"],\n",
    "                      metadata_values=[\"Orange\", 1, 0.35, 45, 3])\n",
    "metadata_4 = Metadata(field_names=[\"Name\", \"Amount\", \"Cost\", \"Calories\", \"#Ranking\"],\n",
    "                      metadata_values=[\"Pear\", 1, 0.40, 105, 4])\n",
    "\n",
    "# Create a list of metadata\n",
    "metadata_list = [metadata_1, metadata_2, metadata_3, metadata_4]\n",
    "\n",
    "# Create a discriminator with the metadata list\n",
    "#discriminator = Discriminator(metadata_list)\n",
    "\n",
    "# Create a functional condition, which is just some function that returns a boolean value\n",
    "# based on the field values of each metadata object. Must return either True or False, cannot return None.\n",
    "functional_condition = lambda cost: cost < 0.35\n",
    "\n",
    "# Find the valid metadata based on the functional condition\n",
    "# The further arguments are the field names of the metadata objects that the functional condition is based on.\n",
    "# \"Cost\", in this case, but it could be any of the field names or multiple field names (e.g. \"Cost\", \"Calories\")\n",
    "#valid_metadata = discriminator.findValidMetadata(functional_condition, \"Cost\")\n",
    "\n",
    "# Print the valid metadata\n",
    "#print(\"The valid metadata is:\")\n",
    "#for metadata in valid_metadata:\n",
    "#    print(metadata)\n",
    "#print(\"\\n\")\n",
    "\n",
    "# Save the metadata objects to a pickle file\n",
    "#discriminator.saveResult(valid_metadata, \"metadata_discriminator_example.pkl\")\n",
    "\n",
    "# Load the metadata objects from the pickle file\n",
    "#loaded_metadata_list = discriminator.loadResult(\"metadata_discriminator_example.pkl\")\n",
    "#print(f\"The loaded metadata is:\")\n",
    "#for metadata in loaded_metadata_list:\n",
    "#    print(metadata)\n",
    "#print(\"\\n\")\n",
    "\n",
    "# Save the metadata objects to a csv file\n",
    "#discriminator.saveResultToCSV(valid_metadata, \"metadata_discriminator_example.csv\")"
   ]
  },
  {
   "cell_type": "code",
   "execution_count": 3,
   "id": "2d16a014",
   "metadata": {},
   "outputs": [
    {
     "name": "stdout",
     "output_type": "stream",
     "text": [
      "Start: 2023-07-17 13:52:45.490098\n",
      "End: 2023-07-17 13:52:45.490098\n"
     ]
    }
   ],
   "source": [
    "from datetime import datetime\n",
    "print(f\"Start: {datetime.now()}\")\n",
    "import DataToolkit.Discriminator\n",
    "print(f\"End: {datetime.now()}\")"
   ]
  },
  {
   "cell_type": "code",
   "execution_count": null,
   "id": "a1a149d3",
   "metadata": {},
   "outputs": [],
   "source": []
  },
  {
   "cell_type": "code",
   "execution_count": null,
   "id": "a6673794",
   "metadata": {},
   "outputs": [],
   "source": []
  }
 ],
 "metadata": {
  "kernelspec": {
   "display_name": "DataToolkit",
   "language": "python",
   "name": "datatoolkit"
  },
  "language_info": {
   "codemirror_mode": {
    "name": "ipython",
    "version": 3
   },
   "file_extension": ".py",
   "mimetype": "text/x-python",
   "name": "python",
   "nbconvert_exporter": "python",
   "pygments_lexer": "ipython3",
   "version": "3.9.17"
  }
 },
 "nbformat": 4,
 "nbformat_minor": 5
}
