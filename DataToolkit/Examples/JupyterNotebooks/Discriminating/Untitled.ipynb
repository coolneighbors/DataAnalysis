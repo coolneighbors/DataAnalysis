{
 "cells": [
  {
   "cell_type": "code",
   "execution_count": 1,
   "id": "cd52f41a",
   "metadata": {},
   "outputs": [
    {
     "ename": "ModuleNotFoundError",
     "evalue": "No module named 'unWISE_verse'",
     "output_type": "error",
     "traceback": [
      "\u001b[1;31m---------------------------------------------------------------------------\u001b[0m",
      "\u001b[1;31mModuleNotFoundError\u001b[0m                       Traceback (most recent call last)",
      "Cell \u001b[1;32mIn[1], line 2\u001b[0m\n\u001b[0;32m      1\u001b[0m \u001b[38;5;66;03m#from DataToolkit.Discriminator import Discriminator\u001b[39;00m\n\u001b[1;32m----> 2\u001b[0m \u001b[38;5;28;01mfrom\u001b[39;00m \u001b[38;5;21;01munWISE_verse\u001b[39;00m\u001b[38;5;21;01m.\u001b[39;00m\u001b[38;5;21;01mData\u001b[39;00m \u001b[38;5;28;01mimport\u001b[39;00m Metadata\n\u001b[0;32m      4\u001b[0m \u001b[38;5;28mprint\u001b[39m(\u001b[38;5;124m\"\u001b[39m\u001b[38;5;124mMetadata Discrimination Example\u001b[39m\u001b[38;5;124m\"\u001b[39m)\n\u001b[0;32m      5\u001b[0m \u001b[38;5;28mprint\u001b[39m(\u001b[38;5;124m\"\u001b[39m\u001b[38;5;124m------------------------------\u001b[39m\u001b[38;5;124m\"\u001b[39m)\n",
      "\u001b[1;31mModuleNotFoundError\u001b[0m: No module named 'unWISE_verse'"
     ]
    }
   ],
   "source": [
    "# TODO: Discriminator import is causing kernel to die. Likely the result of library issues\n",
    "#from DataToolkit.Discriminator import Discriminator\n",
    "from unWISE_verse.Data import Metadata\n",
    "\n",
    "print(\"Metadata Discrimination Example\")\n",
    "print(\"------------------------------\")\n",
    "\n",
    "\n",
    "print(\"The default character for private metadata is: {} \\n\".format(Metadata.privatization_symbol))\n",
    "\n",
    "# Create some metadata\n",
    "metadata_1 = Metadata(field_names=[\"Name\", \"Amount\", \"Cost\", \"Calories\", \"#Ranking\"], \n",
    "                      metadata_values=[\"Banana\", 1, 0.25, 105, 1])\n",
    "metadata_2 = Metadata(field_names=[\"Name\", \"Amount\", \"Cost\", \"Calories\", \"#Ranking\"],\n",
    "                      metadata_values=[\"Apple\", 1, 0.30, 95, 2])\n",
    "metadata_3 = Metadata(field_names=[\"Name\", \"Amount\", \"Cost\", \"Calories\", \"#Ranking\"],\n",
    "                      metadata_values=[\"Orange\", 1, 0.35, 45, 3])\n",
    "metadata_4 = Metadata(field_names=[\"Name\", \"Amount\", \"Cost\", \"Calories\", \"#Ranking\"],\n",
    "                      metadata_values=[\"Pear\", 1, 0.40, 105, 4])\n",
    "\n",
    "# Create a list of metadata\n",
    "metadata_list = [metadata_1, metadata_2, metadata_3, metadata_4]\n",
    "\n",
    "# Create a discriminator with the metadata list\n",
    "#discriminator = Discriminator(metadata_list)\n",
    "\n",
    "# Create a functional condition, which is just some function that returns a boolean value\n",
    "# based on the field values of each metadata object. Must return either True or False, cannot return None.\n",
    "functional_condition = lambda cost: cost < 0.35\n",
    "\n",
    "# Find the valid metadata based on the functional condition\n",
    "# The further arguments are the field names of the metadata objects that the functional condition is based on.\n",
    "# \"Cost\", in this case, but it could be any of the field names or multiple field names (e.g. \"Cost\", \"Calories\")\n",
    "#valid_metadata = discriminator.findValidMetadata(functional_condition, \"Cost\")\n",
    "\n",
    "# Print the valid metadata\n",
    "#print(\"The valid metadata is:\")\n",
    "#for metadata in valid_metadata:\n",
    "#    print(metadata)\n",
    "#print(\"\\n\")\n",
    "\n",
    "# Save the metadata objects to a pickle file\n",
    "#discriminator.saveResult(valid_metadata, \"metadata_discriminator_example.pkl\")\n",
    "\n",
    "# Load the metadata objects from the pickle file\n",
    "#loaded_metadata_list = discriminator.loadResult(\"metadata_discriminator_example.pkl\")\n",
    "#print(f\"The loaded metadata is:\")\n",
    "#for metadata in loaded_metadata_list:\n",
    "#    print(metadata)\n",
    "#print(\"\\n\")\n",
    "\n",
    "# Save the metadata objects to a csv file\n",
    "#discriminator.saveResultToCSV(valid_metadata, \"metadata_discriminator_example.csv\")"
   ]
  },
  {
   "cell_type": "code",
   "execution_count": null,
   "id": "2d16a014",
   "metadata": {},
   "outputs": [],
   "source": []
  },
  {
   "cell_type": "code",
   "execution_count": null,
   "id": "a1a149d3",
   "metadata": {},
   "outputs": [],
   "source": []
  }
 ],
 "metadata": {
  "kernelspec": {
   "display_name": "DataToolkit",
   "language": "python",
   "name": "datatoolkit"
  },
  "language_info": {
   "codemirror_mode": {
    "name": "ipython",
    "version": 3
   },
   "file_extension": ".py",
   "mimetype": "text/x-python",
   "name": "python",
   "nbconvert_exporter": "python",
   "pygments_lexer": "ipython3",
   "version": "3.9.17"
  }
 },
 "nbformat": 4,
 "nbformat_minor": 5
}
