{
 "cells": [
  {
   "cell_type": "markdown",
   "id": "1c32b0ff",
   "metadata": {},
   "source": [
    "# SubjectDiscriminator Class:"
   ]
  },
  {
   "cell_type": "markdown",
   "id": "24a84818",
   "metadata": {},
   "source": [
    "## What does it do?\n",
    "<break> </break>\n",
    "<font size=5>\n",
    "The SubjectDiscriminator class, a child class of the Discriminator, takes a list of Subject objects and allows you to get a subset of them based on the values of their metadata.\n",
    "    \n",
    "<break> </break>\n",
    "    \n",
    "<font size=3>\n",
    "In order to easily get these Subject objects, you can use the Spout object from unWISE-verse. Spout handles all the specifics about getting Subjects and working with them. It is your all-inclusive connection to Zooniverse.\n",
    "</font>"
   ]
  },
  {
   "cell_type": "code",
   "execution_count": 2,
   "id": "f080c229",
   "metadata": {},
   "outputs": [
    {
     "name": "stdout",
     "output_type": "stream",
     "text": [
      "Subject Discrimination Example\n",
      "------------------------------\n"
     ]
    }
   ],
   "source": [
    "# Import the appropriate classes\n",
    "from unWISE_verse.Spout import Spout\n",
    "from unWISE_verse.Login import Login\n",
    "from DataToolkit.Discriminator import SubjectDiscriminator\n",
    "\n",
    "# Useful display information\n",
    "print(\"Subject Discrimination Example\")\n",
    "print(\"------------------------------\")"
   ]
  },
  {
   "cell_type": "code",
   "execution_count": 3,
   "id": "9d74a1dd",
   "metadata": {},
   "outputs": [
    {
     "name": "stdout",
     "output_type": "stream",
     "text": [
      "Login credentials loaded.\n"
     ]
    }
   ],
   "source": [
    "# To interact with the Zooniverse API, you need to create a Spout object or call Spout.loginToZooniverse.\n",
    "# Once you have logged in once you will not need to log in again, unless you want to log in as a different user,\n",
    "# or you delete the login file. The login file is stored locally in the current working directory.\n",
    "\n",
    "# If you have not logged in previously, Spout.requestLogin() will prompt you to provide your login details in the console.\n",
    "# Unless told not to, your login-details will be saved locally to a file to avoid logging in each time you run the program.\n",
    "login = Spout.requestLogin()\n",
    "\n",
    "# Alternatively, you can create a Login object yourself and pass it to Spout.loginToZooniverse(login)\n",
    "Spout.loginToZooniverse(login)"
   ]
  },
  {
   "cell_type": "code",
   "execution_count": 5,
   "id": "551d8af3",
   "metadata": {},
   "outputs": [],
   "source": [
    "# Set the project ID of the project you want to get subjects from\n",
    "project_id = 18925\n",
    "# Set the subject set ID of the subject set you want to get subjects from (optional)\n",
    "subject_set_id = 113708\n",
    "# Set whether you want to get only orphaned subjects (subjects that have no association with any existing subject sets) (optional)\n",
    "only_orphans = False\n",
    "\n",
    "# Prompts telling you to fill in the project ID and subject set ID if you have not already done so\n",
    "if(project_id is None):\n",
    "    print(\"Please fill in the project id.\")\n",
    "\n",
    "if(subject_set_id is None):\n",
    "    print(\"Please fill in the subject set id, unless you want to get all subjects from the project.\")\n",
    "\n",
    "if(only_orphans):\n",
    "    print(\"Only getting orphaned subjects from the project.\")"
   ]
  },
  {
   "cell_type": "code",
   "execution_count": 6,
   "id": "f061710d",
   "metadata": {},
   "outputs": [
    {
     "name": "stdout",
     "output_type": "stream",
     "text": [
      "There are 56 subjects in this subject set.\n"
     ]
    }
   ],
   "source": [
    "# Get the subjects from the project using Spout\n",
    "subject_list = Spout.get_subjects_from_project(project_id, subject_set_id=subject_set_id, only_orphans=False)\n",
    "\n",
    "# Print the number of subjects in the project\n",
    "if(subject_set_id is None):\n",
    "    print(\"There are {} subjects in this project.\".format(len(subject_list)))\n",
    "else:\n",
    "    print(\"There are {} subjects in this subject set.\".format(len(subject_list)))"
   ]
  },
  {
   "cell_type": "code",
   "execution_count": 7,
   "id": "8e093d1c",
   "metadata": {},
   "outputs": [],
   "source": [
    "# Create a discriminator with the subject list\n",
    "subject_discriminator = SubjectDiscriminator(subject_list)"
   ]
  },
  {
   "cell_type": "code",
   "execution_count": 8,
   "id": "2d16a014",
   "metadata": {},
   "outputs": [],
   "source": [
    "# Create a functional condition, which is just some function that returns a boolean value\n",
    "# based on the metadata values of each subject object. Must return either True or False, cannot return None.\n",
    "\n",
    "# Since subjects are saved on Zooniverse, their values are all provided as strings. Perform the appropriate \n",
    "# conversions in your functional condition as necessary.\n",
    "functional_condition = lambda ra, dec: float(ra) > 0 and float(dec) > 0"
   ]
  },
  {
   "cell_type": "code",
   "execution_count": 9,
   "id": "eba39767",
   "metadata": {},
   "outputs": [],
   "source": [
    "# Find the valid subjects based on the functional condition\n",
    "# The further arguments are the metadata field names of the subject objects that the functional condition is based on.\n",
    "# \"RA\" and \"DEC\", in this case, but it could be any of the metadata field names or multiple metadata field names.\n",
    "valid_subjects = subject_discriminator.findValidSubjects(functional_condition, \"RA\", \"DEC\")"
   ]
  },
  {
   "cell_type": "code",
   "execution_count": 10,
   "id": "3d5452cc",
   "metadata": {},
   "outputs": [
    {
     "name": "stdout",
     "output_type": "stream",
     "text": [
      "There are 26 valid subjects. The first 10 are:\n",
      "<Subject 89723375>\n",
      "<Subject 89723380>\n",
      "<Subject 89723383>\n",
      "<Subject 89727508>\n",
      "<Subject 89727510>\n",
      "<Subject 89727516>\n",
      "<Subject 89727519>\n",
      "<Subject 89727536>\n",
      "<Subject 89727538>\n",
      "<Subject 89813611>\n",
      "...\n",
      "\n"
     ]
    }
   ],
   "source": [
    "# Print the valid subjects\n",
    "max_count = 10\n",
    "print(f\"There are {len(valid_subjects)} valid subjects. The first {min(max_count, len(valid_subjects))} are:\")\n",
    "for subject in valid_subjects[:max_count]:\n",
    "    print(subject)\n",
    "\n",
    "if(len(valid_subjects) > max_count):\n",
    "    print(\"...\\n\")\n",
    "else:\n",
    "    print(\"\\n\")"
   ]
  },
  {
   "cell_type": "code",
   "execution_count": 11,
   "id": "8b2b45fe",
   "metadata": {},
   "outputs": [
    {
     "name": "stdout",
     "output_type": "stream",
     "text": [
      "Loaded 2 subjects.\n",
      "Loaded 4 subjects.\n",
      "Loaded 6 subjects.\n",
      "Loaded 8 subjects.\n",
      "Loaded 10 subjects.\n",
      "Loaded 12 subjects.\n",
      "Loaded 14 subjects.\n",
      "Loaded 16 subjects.\n",
      "Loaded 18 subjects.\n",
      "Loaded 20 subjects.\n",
      "Loaded 22 subjects.\n",
      "Loaded 24 subjects.\n",
      "The first 10 loaded subjects are:\n",
      "<Subject 89723375>\n",
      "<Subject 89723380>\n",
      "<Subject 89723383>\n",
      "<Subject 89727508>\n",
      "<Subject 89727510>\n",
      "<Subject 89727516>\n",
      "<Subject 89727519>\n",
      "<Subject 89727536>\n",
      "<Subject 89727538>\n",
      "<Subject 89813611>\n",
      "...\n",
      "\n"
     ]
    }
   ],
   "source": [
    "# Save the valid subjects to a pickle file\n",
    "subject_discriminator.saveResult(valid_subjects, \"subject_discriminator_example.pkl\")\n",
    "\n",
    "# Load the valid subjects from the pickle file\n",
    "loaded_subject_list = subject_discriminator.loadResult(\"subject_discriminator_example.pkl\")\n",
    "\n",
    "print(f\"The first {min(max_count, len(loaded_subject_list))} loaded subjects are:\")\n",
    "for subject in loaded_subject_list[:max_count]:\n",
    "    print(subject)\n",
    "\n",
    "if (len(valid_subjects) > max_count):\n",
    "    print(\"...\\n\")\n",
    "else:\n",
    "    print(\"\\n\")"
   ]
  },
  {
   "cell_type": "code",
   "execution_count": 12,
   "id": "f15dfc67",
   "metadata": {},
   "outputs": [],
   "source": [
    "# Save the valid subjects to a csv file\n",
    "subject_discriminator.saveResultToCSV(valid_subjects, \"subject_discriminator_example.csv\")"
   ]
  }
 ],
 "metadata": {
  "kernelspec": {
   "display_name": "DataToolkit",
   "language": "python",
   "name": "datatoolkit"
  },
  "language_info": {
   "codemirror_mode": {
    "name": "ipython",
    "version": 3
   },
   "file_extension": ".py",
   "mimetype": "text/x-python",
   "name": "python",
   "nbconvert_exporter": "python",
   "pygments_lexer": "ipython3",
   "version": "3.9.17"
  }
 },
 "nbformat": 4,
 "nbformat_minor": 5
}
