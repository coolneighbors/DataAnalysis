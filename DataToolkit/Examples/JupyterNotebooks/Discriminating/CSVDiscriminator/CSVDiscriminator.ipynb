{
 "cells": [
  {
   "cell_type": "markdown",
   "id": "1c32b0ff",
   "metadata": {},
   "source": [
    "# CSVDiscriminator Class:"
   ]
  },
  {
   "cell_type": "markdown",
   "id": "24a84818",
   "metadata": {},
   "source": [
    "## What does it do?\n",
    "<break> </break>\n",
    "<font size=5>\n",
    "The CSVDiscriminator class, a child class of the Discriminator, takes a csv filename and allows you to get a subset of the rows of the file, in the form of Metadata objects, based on the values of their metadata.\n",
    "</font>\n",
    "\n",
    "<font size=3>\n",
    "In this example, we have the following csv:\n",
    "</font>\n",
    "<break> </break>\n",
    "\n",
    "\n",
    "![csv_discriminator_example.csv](Breakfast_CSV_Image.png)\n",
    "\n"
   ]
  },
  {
   "cell_type": "code",
   "execution_count": null,
   "id": "f080c229",
   "metadata": {},
   "outputs": [],
   "source": [
    "# Import the appropriate classes\n",
    "from DataToolkit.Discriminator import CSVDiscriminator\n",
    "\n",
    "# Useful display information\n",
    "print(\"CSV Discrimination Example\")\n",
    "print(\"--------------------------\")"
   ]
  },
  {
   "cell_type": "code",
   "execution_count": null,
   "id": "9d74a1dd",
   "metadata": {},
   "outputs": [],
   "source": [
    "# Create a csv discriminator with a csv file\n",
    "csv_discriminator = CSVDiscriminator(\"csv_discriminator_example.csv\")"
   ]
  },
  {
   "cell_type": "code",
   "execution_count": null,
   "id": "551d8af3",
   "metadata": {},
   "outputs": [],
   "source": [
    "# Create a functional condition, which is just some function that returns a boolean value\n",
    "# based on the values of each row. Must return either True or False, cannot return None.\n",
    "functional_condition = lambda calories: float(calories) > 300"
   ]
  },
  {
   "cell_type": "code",
   "execution_count": null,
   "id": "f061710d",
   "metadata": {},
   "outputs": [],
   "source": [
    "# Find the valid rows based on the functional condition\n",
    "# The further arguments are the header names of the columns that the functional condition is based on.\n",
    "# \"Calories\", in this case, but it could be any of the header names or multiple header names.\n",
    "valid_metadata = csv_discriminator.findValidMetadata(functional_condition, \"Calories\")\n",
    "\n",
    " # Print the valid metadata\n",
    "print(\"The valid metadata are:\")\n",
    "for row in valid_metadata:\n",
    "    print(row)\n",
    "print(\"\\n\")"
   ]
  },
  {
   "cell_type": "code",
   "execution_count": null,
   "id": "8e093d1c",
   "metadata": {},
   "outputs": [],
   "source": [
    "# Save the metadata objects to a pickle file\n",
    "csv_discriminator.saveResult(valid_metadata, \"csv_discriminator_example.pkl\")\n",
    "\n",
    "# Load the metadata objects from the pickle file\n",
    "loaded_metadata_list = csv_discriminator.loadResult(\"csv_discriminator_example.pkl\")\n",
    "\n",
    "print(f\"The loaded metadata is:\")\n",
    "for metadata in loaded_metadata_list:\n",
    "    print(metadata)\n",
    "print(\"\\n\")"
   ]
  },
  {
   "cell_type": "code",
   "execution_count": null,
   "id": "2d16a014",
   "metadata": {},
   "outputs": [],
   "source": [
    "# Save the metadata objects to a csv file\n",
    "csv_discriminator.saveResultToCSV(valid_metadata, \"csv_discriminator_example_result.csv\")"
   ]
  }
 ],
 "metadata": {
  "kernelspec": {
   "display_name": "DataToolkit",
   "language": "python",
   "name": "datatoolkit"
  },
  "language_info": {
   "codemirror_mode": {
    "name": "ipython",
    "version": 3
   },
   "file_extension": ".py",
   "mimetype": "text/x-python",
   "name": "python",
   "nbconvert_exporter": "python",
   "pygments_lexer": "ipython3",
   "version": "3.9.17"
  }
 },
 "nbformat": 4,
 "nbformat_minor": 5
}
