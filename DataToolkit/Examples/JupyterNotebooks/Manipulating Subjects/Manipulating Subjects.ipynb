{
 "cells": [
  {
   "cell_type": "markdown",
   "id": "1aa606bc",
   "metadata": {},
   "source": [
    "# Manipulating Subjects via Spout:\n",
    "<break> </break>\n",
    "<font size=4>\n",
    "Originally, Spout was created with the unWISE-verse user interface in mind. As such, creating a Spout object was primarily meant to assist the user in creating subject sets in a specific project and uploading subjects to them through the UI. However, the Zooniverse data pipeline goes both ways. Not only can we upload subjects, we can retrieve them as well. As such, in addition to Spout's primary functionality, there exists static methods accessible via Spout which handle these retrevial and modifications of subjects.\n",
    "</font>"
   ]
  },
  {
   "cell_type": "markdown",
   "id": "c417ecae",
   "metadata": {},
   "source": [
    "## Logging into Zooniverse\n",
    "\n",
    "Instead of creating a a Spout object, as would occur via the unWISE-verse user interface, we will just need to provide our user credentials once (via the console/terminal) and we will be able to access subjects via Spout for as long as the login.pickle file remains in your local directory. "
   ]
  },
  {
   "cell_type": "code",
   "execution_count": 1,
   "id": "59e062a1",
   "metadata": {},
   "outputs": [
    {
     "ename": "ModuleNotFoundError",
     "evalue": "No module named 'tqdm'",
     "output_type": "error",
     "traceback": [
      "\u001b[1;31m---------------------------------------------------------------------------\u001b[0m",
      "\u001b[1;31mModuleNotFoundError\u001b[0m                       Traceback (most recent call last)",
      "Cell \u001b[1;32mIn[1], line 2\u001b[0m\n\u001b[0;32m      1\u001b[0m \u001b[38;5;66;03m# Import Spout from unWISE-verse\u001b[39;00m\n\u001b[1;32m----> 2\u001b[0m \u001b[38;5;28;01mfrom\u001b[39;00m \u001b[38;5;21;01munWISE_verse\u001b[39;00m\u001b[38;5;21;01m.\u001b[39;00m\u001b[38;5;21;01mSpout\u001b[39;00m \u001b[38;5;28;01mimport\u001b[39;00m Spout\n\u001b[0;32m      4\u001b[0m \u001b[38;5;66;03m# Get user's Zooniverse login information: username and password.\u001b[39;00m\n\u001b[0;32m      5\u001b[0m \u001b[38;5;66;03m# If you do not have a Zooniverse account, you can create one here: https://www.zooniverse.org/\u001b[39;00m\n\u001b[0;32m      6\u001b[0m \n\u001b[0;32m      7\u001b[0m \u001b[38;5;66;03m# This command will prompt the user to input their Zooniverse username and password via the console/terminal it is run within.\u001b[39;00m\n\u001b[0;32m      8\u001b[0m login \u001b[38;5;241m=\u001b[39m Spout\u001b[38;5;241m.\u001b[39mrequestLogin(filename\u001b[38;5;241m=\u001b[39m\u001b[38;5;124m\"\u001b[39m\u001b[38;5;124mlogin.pickle\u001b[39m\u001b[38;5;124m\"\u001b[39m, save\u001b[38;5;241m=\u001b[39m\u001b[38;5;28;01mTrue\u001b[39;00m)\n",
      "File \u001b[1;32m~\\anaconda3\\envs\\DataToolkit\\lib\\site-packages\\unWISE_verse\\Spout.py:16\u001b[0m\n\u001b[0;32m     14\u001b[0m \u001b[38;5;28;01mimport\u001b[39;00m \u001b[38;5;21;01msys\u001b[39;00m\n\u001b[0;32m     15\u001b[0m \u001b[38;5;28;01mimport\u001b[39;00m \u001b[38;5;21;01mtime\u001b[39;00m\n\u001b[1;32m---> 16\u001b[0m \u001b[38;5;28;01mfrom\u001b[39;00m \u001b[38;5;21;01mtqdm\u001b[39;00m \u001b[38;5;28;01mimport\u001b[39;00m tqdm\n\u001b[0;32m     17\u001b[0m \u001b[38;5;28;01mfrom\u001b[39;00m \u001b[38;5;21;01mcopy\u001b[39;00m \u001b[38;5;28;01mimport\u001b[39;00m copy\n\u001b[0;32m     18\u001b[0m \u001b[38;5;28;01mfrom\u001b[39;00m \u001b[38;5;21;01mpanoptes_client\u001b[39;00m \u001b[38;5;28;01mimport\u001b[39;00m Panoptes, Project, SubjectSet, Subject, User\n",
      "\u001b[1;31mModuleNotFoundError\u001b[0m: No module named 'tqdm'"
     ]
    }
   ],
   "source": [
    "# Import Spout from unWISE-verse\n",
    "from unWISE_verse.Spout import Spout\n",
    "\n",
    "# Get user's Zooniverse login information: username and password.\n",
    "# If you do not have a Zooniverse account, you can create one here: https://www.zooniverse.org/\n",
    "\n",
    "# This command will prompt the user to input their Zooniverse username and password via the console/terminal it is run within.\n",
    "login = Spout.requestLogin(filename=\"login.pickle\", save=True)\n",
    "\n",
    "# When this is done once, if save is set to True, your login information will be locally saved to the filename. \n",
    "# Which is login.pickle by default.\n",
    "\n",
    "# Use the login information to log in to Zooniverse. All future requests to Zooniverse via Spout will be made using this login.\n",
    "Spout.loginToZooniverse(login)"
   ]
  },
  {
   "cell_type": "markdown",
   "id": "7b00a8ef",
   "metadata": {},
   "source": [
    "## Getting Subjects from Zooniverse\n",
    "\n",
    "In order to access subjects, once you've logged in, you can either request all subjects from a particular project, from a particular subject set, or you can request subjects directly via their subject id."
   ]
  },
  {
   "cell_type": "code",
   "execution_count": null,
   "id": "395bdfd7",
   "metadata": {},
   "outputs": [],
   "source": [
    "# Provide the project id and subject set id you wish to get subjects from.\n",
    "# By default, the project ID and subject set ID are saved to the filenames \"project_id.pickle\" and \"subject_set_id.pickle\" \n",
    "# and save is set to True.\n",
    "project_id, subject_set_id = Spout.requestZooniverseIDs(filenames=[\"project_id.pickle\", \"subject_set_id.pickle\"], save=True)\n",
    "\n",
    "print(\"Warning: This will take a long time to run if there are a lot of subjects in the project.\")\n",
    "\n",
    "# Get all subjects in the project.\n",
    "project_subjects = Spout.get_subjects_from_project(project_id, only_orphans=False)\n",
    "print(f\"Number of subjects in the project: {len(project_subjects)}\")\n",
    "\n",
    "# Get all orphaned subjects in the project.\n",
    "orphaned_project_subjects = Spout.get_subjects_from_project(project_id, only_orphans=True)\n",
    "print(f\"Number of orphaned subjects in the project: {len(orphaned_project_subjects)}\")\n",
    "\n",
    "# Get all subjects in the subject set.\n",
    "subject_set_subjects = Spout.get_subjects_from_project(project_id, subject_set_id, only_orphans=False)\n",
    "print(f\"Number of subjects in the subject set: {len(subject_set_subjects)}\")\n",
    "\n"
   ]
  }
 ],
 "metadata": {
  "kernelspec": {
   "display_name": "DataToolkit",
   "language": "python",
   "name": "datatoolkit"
  },
  "language_info": {
   "codemirror_mode": {
    "name": "ipython",
    "version": 3
   },
   "file_extension": ".py",
   "mimetype": "text/x-python",
   "name": "python",
   "nbconvert_exporter": "python",
   "pygments_lexer": "ipython3",
   "version": "3.9.17"
  }
 },
 "nbformat": 4,
 "nbformat_minor": 5
}
