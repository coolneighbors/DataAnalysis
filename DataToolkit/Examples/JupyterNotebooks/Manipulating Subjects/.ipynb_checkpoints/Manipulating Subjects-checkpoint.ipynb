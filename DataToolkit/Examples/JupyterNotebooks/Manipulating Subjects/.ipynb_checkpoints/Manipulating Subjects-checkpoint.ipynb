{
 "cells": [
  {
   "cell_type": "markdown",
   "id": "1aa606bc",
   "metadata": {},
   "source": [
    "# Manipulating Subjects via Spout:\n",
    "<break> </break>\n",
    "<font size=4>\n",
    "Originally, Spout was created with the unWISE-verse user interface in mind. As such, creating a Spout object was primarily meant to assist the user in creating subject sets in a specific project and uploading subjects to them through the UI. However, the Zooniverse data pipeline goes both ways. Not only can we upload subjects, we can retrieve them as well. As such, in addition to Spout's primary functionality, there exists static methods accessible via Spout which handle these retrevial and modifications of subjects.\n",
    "</font>"
   ]
  },
  {
   "cell_type": "markdown",
   "id": "c417ecae",
   "metadata": {},
   "source": [
    "## Logging into Zooniverse\n",
    "\n",
    "Instead of creating a a Spout object, as would occur via the unWISE-verse user interface, we will just need to provide our user credentials once (via the console/terminal) and we will be able to access subjects via Spout for as long as the login.pickle file remains in your local directory. "
   ]
  },
  {
   "cell_type": "code",
   "execution_count": null,
   "id": "59e062a1",
   "metadata": {},
   "outputs": [
    {
     "name": "stderr",
     "output_type": "stream",
     "text": [
      "C:\\Users\\Austin\\AppData\\Roaming\\Python\\Python39\\site-packages\\unWISE_verse\\Spout.py:128: UserWarning: The `stream` parameter of `getpass.getpass` will have no effect when using ipykernel\n",
      "  username = getpass.getpass(prompt='Username: ', stream=sys.stdin)\n"
     ]
    },
    {
     "name": "stdout",
     "output_type": "stream",
     "text": [
      "Please enter your Zooniverse credentials.\n"
     ]
    }
   ],
   "source": [
    "# Import Spout from unWISE-verse\n",
    "from unWISE_verse.Spout import Spout\n",
    "\n",
    "# Get user's Zooniverse login information: username and password.\n",
    "# If you do not have a Zooniverse account, you can create one here: https://www.zooniverse.org/\n",
    "\n",
    "# This command will prompt the user to input their Zooniverse username and password via the console/terminal it is run within.\n",
    "login = Spout.requestLogin(filename=\"login.pickle\", save=True)\n",
    "\n",
    "# When this is done once, if save is set to True, your login information will be locally saved to the filename. \n",
    "# Which is login.pickle by default.\n",
    "\n",
    "# Use the login information to log in to Zooniverse. All future requests to Zooniverse via Spout will be made using this login.\n",
    "Spout.loginToZooniverse(login)"
   ]
  },
  {
   "cell_type": "markdown",
   "id": "7b00a8ef",
   "metadata": {},
   "source": [
    "## Getting Subjects from Zooniverse\n",
    "\n",
    "In order to access subjects, once you've logged in, you can either request all subjects from a particular project, from a particular subject set, or you can request subjects directly via their subject id."
   ]
  },
  {
   "cell_type": "code",
   "execution_count": null,
   "id": "395bdfd7",
   "metadata": {},
   "outputs": [],
   "source": [
    "# Provide the project id and subject set id you wish to get subjects from.\n",
    "# By default, the project ID and subject set ID are saved to the filenames \"project_id.pickle\" and \"subject_set_id.pickle\" \n",
    "# and save is set to True.\n",
    "project_id, subject_set_id = Spout.requestZooniverseIDs(filenames=[\"project_id.pickle\", \"subject_set_id.pickle\"], save=True)\n",
    "\n",
    "print(\"Warning: This will take a long time to run if there are a lot of subjects in the project.\")\n",
    "\n",
    "# Get all subjects in the project.\n",
    "project_subjects = Spout.get_subjects_from_project(project_id, only_orphans=False)\n",
    "print(f\"Number of subjects in the project: {len(project_subjects)}\")\n",
    "\n",
    "# Get all orphaned subjects in the project.\n",
    "orphaned_project_subjects = Spout.get_subjects_from_project(project_id, only_orphans=True)\n",
    "print(f\"Number of orphaned subjects in the project: {len(orphaned_project_subjects)}\")\n",
    "\n",
    "# Get all subjects in the subject set.\n",
    "subject_set_subjects = Spout.get_subjects_from_project(project_id, subject_set_id, only_orphans=False)\n",
    "print(f\"Number of subjects in the subject set: {len(subject_set_subjects)}\")\n",
    "\n"
   ]
  }
 ],
 "metadata": {
  "kernelspec": {
   "display_name": "DataToolkit",
   "language": "python",
   "name": "datatoolkit"
  },
  "language_info": {
   "codemirror_mode": {
    "name": "ipython",
    "version": 3
   },
   "file_extension": ".py",
   "mimetype": "text/x-python",
   "name": "python",
   "nbconvert_exporter": "python",
   "pygments_lexer": "ipython3",
   "version": "3.9.17"
  }
 },
 "nbformat": 4,
 "nbformat_minor": 5
}
